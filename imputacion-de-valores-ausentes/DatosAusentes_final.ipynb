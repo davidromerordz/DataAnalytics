{
 "cells": [
  {
   "cell_type": "markdown",
   "id": "d4a61e3a",
   "metadata": {
    "cell_id": "630785f1-b151-4708-bcde-b82e1fed38d2",
    "deepnote_cell_height": 221.1875,
    "deepnote_cell_type": "markdown"
   },
   "source": [
    "# IMPUTACIÓN DE VALORES AUSENTES"
   ]
  },
  {
   "cell_type": "code",
   "execution_count": 1,
   "id": "9211ca90",
   "metadata": {
    "cell_id": "00001-3217c2c5-2bcb-4111-b7c2-2e90dade5172",
    "deepnote_cell_height": 135,
    "deepnote_cell_type": "code",
    "deepnote_to_be_reexecuted": false,
    "execution_millis": 3373,
    "execution_start": 1653501103413,
    "source_hash": "15dadb11"
   },
   "outputs": [],
   "source": [
    "#Importamos las librerias necesarias\n",
    "import pandas as pd\n",
    "import matplotlib.pyplot as plt\n",
    "import seaborn as sns"
   ]
  },
  {
   "cell_type": "code",
   "execution_count": 3,
   "id": "9fced295",
   "metadata": {
    "cell_id": "fa4d5cc5e65d45ccb9a347911c845b45",
    "deepnote_cell_height": 188.78125,
    "deepnote_cell_type": "code",
    "deepnote_to_be_reexecuted": false,
    "execution_millis": 6527,
    "execution_start": 1653501109105,
    "source_hash": "861a73b4",
    "tags": []
   },
   "outputs": [
    {
     "name": "stdout",
     "output_type": "stream",
     "text": [
      "Requirement already satisfied: openpyxl in /root/venv/lib/python3.7/site-packages (3.0.10)\n",
      "Requirement already satisfied: et-xmlfile in /root/venv/lib/python3.7/site-packages (from openpyxl) (1.1.0)\n",
      "\u001b[33mWARNING: You are using pip version 20.1.1; however, version 22.1.1 is available.\n",
      "You should consider upgrading via the '/root/venv/bin/python -m pip install --upgrade pip' command.\u001b[0m\n"
     ]
    }
   ],
   "source": [
    "#Instalamos libreria para poder abrir el archivo .xls\n",
    "!pip install openpyxl"
   ]
  },
  {
   "cell_type": "code",
   "execution_count": 2,
   "id": "038c7af7",
   "metadata": {
    "cell_id": "00002-d5d5222a-c7a9-4661-922a-b1bea1e5b688",
    "deepnote_cell_height": 636,
    "deepnote_cell_type": "code",
    "deepnote_to_be_reexecuted": false,
    "execution_millis": 12648,
    "execution_start": 1653501353135,
    "source_hash": "be1b90c4"
   },
   "outputs": [
    {
     "data": {
      "text/html": [
       "<div>\n",
       "<style scoped>\n",
       "    .dataframe tbody tr th:only-of-type {\n",
       "        vertical-align: middle;\n",
       "    }\n",
       "\n",
       "    .dataframe tbody tr th {\n",
       "        vertical-align: top;\n",
       "    }\n",
       "\n",
       "    .dataframe thead th {\n",
       "        text-align: right;\n",
       "    }\n",
       "</style>\n",
       "<table border=\"1\" class=\"dataframe\">\n",
       "  <thead>\n",
       "    <tr style=\"text-align: right;\">\n",
       "      <th></th>\n",
       "      <th>Id</th>\n",
       "      <th>Edad</th>\n",
       "      <th>Años_Estudio</th>\n",
       "      <th>Salario</th>\n",
       "      <th>Escolaridad</th>\n",
       "      <th>Estado_Civil</th>\n",
       "      <th>Trabajo</th>\n",
       "      <th>Papel_Hogar</th>\n",
       "      <th>Género</th>\n",
       "      <th>País_Nacim</th>\n",
       "    </tr>\n",
       "  </thead>\n",
       "  <tbody>\n",
       "    <tr>\n",
       "      <th>0</th>\n",
       "      <td>1</td>\n",
       "      <td>15.0</td>\n",
       "      <td>2.0</td>\n",
       "      <td>214061.0</td>\n",
       "      <td>HS-grad</td>\n",
       "      <td>Divorced</td>\n",
       "      <td>Adm-clerical</td>\n",
       "      <td>Not-in-family</td>\n",
       "      <td>Male</td>\n",
       "      <td>Cambodia</td>\n",
       "    </tr>\n",
       "    <tr>\n",
       "      <th>1</th>\n",
       "      <td>2</td>\n",
       "      <td>18.0</td>\n",
       "      <td>3.0</td>\n",
       "      <td>270942.0</td>\n",
       "      <td>5th-6th</td>\n",
       "      <td>Never-married</td>\n",
       "      <td>Other-service</td>\n",
       "      <td>Other-relative</td>\n",
       "      <td>Female</td>\n",
       "      <td>United-States</td>\n",
       "    </tr>\n",
       "    <tr>\n",
       "      <th>2</th>\n",
       "      <td>3</td>\n",
       "      <td>20.0</td>\n",
       "      <td>4.0</td>\n",
       "      <td>168807.0</td>\n",
       "      <td>7th-8th</td>\n",
       "      <td>Never-married</td>\n",
       "      <td>Craft-repair</td>\n",
       "      <td>Not-in-family</td>\n",
       "      <td>Female</td>\n",
       "      <td>United-States</td>\n",
       "    </tr>\n",
       "    <tr>\n",
       "      <th>3</th>\n",
       "      <td>4</td>\n",
       "      <td>14.0</td>\n",
       "      <td>4.0</td>\n",
       "      <td>168203.0</td>\n",
       "      <td>7th-8th</td>\n",
       "      <td>Never-married</td>\n",
       "      <td>Farming-fishing</td>\n",
       "      <td>Other-relative</td>\n",
       "      <td>Male</td>\n",
       "      <td>United-States</td>\n",
       "    </tr>\n",
       "    <tr>\n",
       "      <th>4</th>\n",
       "      <td>5</td>\n",
       "      <td>20.0</td>\n",
       "      <td>4.0</td>\n",
       "      <td>1484705.0</td>\n",
       "      <td>Some-college</td>\n",
       "      <td>Divorced</td>\n",
       "      <td>Exec-managerial</td>\n",
       "      <td>Unmarried</td>\n",
       "      <td>Male</td>\n",
       "      <td>United-States</td>\n",
       "    </tr>\n",
       "    <tr>\n",
       "      <th>5</th>\n",
       "      <td>6</td>\n",
       "      <td>21.0</td>\n",
       "      <td>16.0</td>\n",
       "      <td>1455435.0</td>\n",
       "      <td>Assoc-acdm</td>\n",
       "      <td>Separated</td>\n",
       "      <td>Craft-repair</td>\n",
       "      <td>NaN</td>\n",
       "      <td>Male</td>\n",
       "      <td>United-States</td>\n",
       "    </tr>\n",
       "    <tr>\n",
       "      <th>6</th>\n",
       "      <td>7</td>\n",
       "      <td>27.0</td>\n",
       "      <td>7.0</td>\n",
       "      <td>19752.0</td>\n",
       "      <td>11th</td>\n",
       "      <td>Never-married</td>\n",
       "      <td>Other-service</td>\n",
       "      <td>Own-child</td>\n",
       "      <td>Male</td>\n",
       "      <td>United-States</td>\n",
       "    </tr>\n",
       "    <tr>\n",
       "      <th>7</th>\n",
       "      <td>8</td>\n",
       "      <td>27.0</td>\n",
       "      <td>9.0</td>\n",
       "      <td>24090.0</td>\n",
       "      <td>HS-grad</td>\n",
       "      <td>Never-married</td>\n",
       "      <td>Exec-managerial</td>\n",
       "      <td>Own-child</td>\n",
       "      <td>Male</td>\n",
       "      <td>United-States</td>\n",
       "    </tr>\n",
       "    <tr>\n",
       "      <th>8</th>\n",
       "      <td>9</td>\n",
       "      <td>27.0</td>\n",
       "      <td>6.0</td>\n",
       "      <td>25051.0</td>\n",
       "      <td>10th</td>\n",
       "      <td>Never-married</td>\n",
       "      <td>Other-service</td>\n",
       "      <td>Own-child</td>\n",
       "      <td>Female</td>\n",
       "      <td>United-States</td>\n",
       "    </tr>\n",
       "    <tr>\n",
       "      <th>9</th>\n",
       "      <td>10</td>\n",
       "      <td>27.0</td>\n",
       "      <td>NaN</td>\n",
       "      <td>25690.0</td>\n",
       "      <td>10th</td>\n",
       "      <td>Never-married</td>\n",
       "      <td>Other-service</td>\n",
       "      <td>Own-child</td>\n",
       "      <td>Male</td>\n",
       "      <td>United-States</td>\n",
       "    </tr>\n",
       "  </tbody>\n",
       "</table>\n",
       "</div>"
      ],
      "text/plain": [
       "   Id  Edad  Años_Estudio    Salario    Escolaridad    Estado_Civil  \\\n",
       "0   1  15.0           2.0   214061.0        HS-grad        Divorced   \n",
       "1   2  18.0           3.0   270942.0        5th-6th   Never-married   \n",
       "2   3  20.0           4.0   168807.0        7th-8th   Never-married   \n",
       "3   4  14.0           4.0   168203.0        7th-8th   Never-married   \n",
       "4   5  20.0           4.0  1484705.0   Some-college        Divorced   \n",
       "5   6  21.0          16.0  1455435.0     Assoc-acdm       Separated   \n",
       "6   7  27.0           7.0    19752.0           11th   Never-married   \n",
       "7   8  27.0           9.0    24090.0        HS-grad   Never-married   \n",
       "8   9  27.0           6.0    25051.0           10th   Never-married   \n",
       "9  10  27.0           NaN    25690.0           10th   Never-married   \n",
       "\n",
       "            Trabajo      Papel_Hogar   Género      País_Nacim  \n",
       "0      Adm-clerical    Not-in-family     Male        Cambodia  \n",
       "1     Other-service   Other-relative   Female   United-States  \n",
       "2      Craft-repair    Not-in-family   Female   United-States  \n",
       "3   Farming-fishing   Other-relative     Male   United-States  \n",
       "4   Exec-managerial        Unmarried     Male   United-States  \n",
       "5      Craft-repair              NaN     Male   United-States  \n",
       "6     Other-service        Own-child     Male   United-States  \n",
       "7   Exec-managerial        Own-child     Male   United-States  \n",
       "8     Other-service        Own-child   Female   United-States  \n",
       "9     Other-service        Own-child     Male   United-States  "
      ]
     },
     "execution_count": 2,
     "metadata": {},
     "output_type": "execute_result"
    }
   ],
   "source": [
    "#Visualizamos los 10 primeros datos de nuestro data frame\n",
    "df = pd.read_excel(\"Datos para trabajo Imputación Valores Ausentes 1.xlsx\", sheet_name= 'censUS')\n",
    "df.head(10)"
   ]
  },
  {
   "cell_type": "code",
   "execution_count": 3,
   "id": "0d63baf5",
   "metadata": {
    "cell_id": "00003-11eca1e3-bb58-4600-8f64-f694449a509c",
    "deepnote_cell_height": 136.1875,
    "deepnote_cell_type": "code",
    "deepnote_output_heights": [
     21.1875
    ],
    "deepnote_to_be_reexecuted": false,
    "execution_millis": 19,
    "execution_start": 1653501365792,
    "source_hash": "48364fd6"
   },
   "outputs": [
    {
     "data": {
      "text/plain": [
       "(30162, 10)"
      ]
     },
     "execution_count": 3,
     "metadata": {},
     "output_type": "execute_result"
    }
   ],
   "source": [
    "#Medidas del dataset\n",
    "df.shape  "
   ]
  },
  {
   "cell_type": "code",
   "execution_count": 4,
   "id": "6327a1cb",
   "metadata": {
    "cell_id": "00004-70efcf73-09b6-40f7-8f0a-bec92a99d537",
    "deepnote_cell_height": 328.140625,
    "deepnote_cell_type": "code",
    "deepnote_output_heights": [
     213.140625
    ],
    "deepnote_to_be_reexecuted": false,
    "execution_millis": 30,
    "execution_start": 1653501365820,
    "source_hash": "b0e85c34"
   },
   "outputs": [
    {
     "data": {
      "text/plain": [
       "Id                 0\n",
       "Edad            2010\n",
       "Años_Estudio    3016\n",
       "Salario         2513\n",
       "Escolaridad        0\n",
       "Estado_Civil    1508\n",
       "Trabajo            0\n",
       "Papel_Hogar     5027\n",
       "Género             0\n",
       "País_Nacim         0\n",
       "dtype: int64"
      ]
     },
     "execution_count": 4,
     "metadata": {},
     "output_type": "execute_result"
    }
   ],
   "source": [
    "#Cantidad de datos ausentes por culumna\n",
    "df.isna().sum()  "
   ]
  },
  {
   "cell_type": "markdown",
   "id": "cc43b38c",
   "metadata": {
    "cell_id": "00005-bef0d422-9dc5-402b-88aa-96e1ca4e7071",
    "deepnote_cell_height": 94,
    "deepnote_cell_type": "markdown"
   },
   "source": [
    "### Usaremos únicamente las columnas que tienen valores faltantes para realizar la imputación"
   ]
  },
  {
   "cell_type": "code",
   "execution_count": 5,
   "id": "ef4b2646",
   "metadata": {
    "cell_id": "00006-dd8800ee-7de3-4e3b-b5ab-e396d5982e45",
    "deepnote_cell_height": 431,
    "deepnote_cell_type": "code",
    "deepnote_to_be_reexecuted": false,
    "execution_millis": 55,
    "execution_start": 1653501367169,
    "source_hash": "a41e6969"
   },
   "outputs": [
    {
     "data": {
      "text/html": [
       "<div>\n",
       "<style scoped>\n",
       "    .dataframe tbody tr th:only-of-type {\n",
       "        vertical-align: middle;\n",
       "    }\n",
       "\n",
       "    .dataframe tbody tr th {\n",
       "        vertical-align: top;\n",
       "    }\n",
       "\n",
       "    .dataframe thead th {\n",
       "        text-align: right;\n",
       "    }\n",
       "</style>\n",
       "<table border=\"1\" class=\"dataframe\">\n",
       "  <thead>\n",
       "    <tr style=\"text-align: right;\">\n",
       "      <th></th>\n",
       "      <th>Id</th>\n",
       "      <th>Edad</th>\n",
       "      <th>Años_Estudio</th>\n",
       "      <th>Salario</th>\n",
       "      <th>Estado_Civil</th>\n",
       "      <th>Papel_Hogar</th>\n",
       "    </tr>\n",
       "  </thead>\n",
       "  <tbody>\n",
       "    <tr>\n",
       "      <th>0</th>\n",
       "      <td>1</td>\n",
       "      <td>15.0</td>\n",
       "      <td>2.0</td>\n",
       "      <td>214061.0</td>\n",
       "      <td>Divorced</td>\n",
       "      <td>Not-in-family</td>\n",
       "    </tr>\n",
       "    <tr>\n",
       "      <th>1</th>\n",
       "      <td>2</td>\n",
       "      <td>18.0</td>\n",
       "      <td>3.0</td>\n",
       "      <td>270942.0</td>\n",
       "      <td>Never-married</td>\n",
       "      <td>Other-relative</td>\n",
       "    </tr>\n",
       "    <tr>\n",
       "      <th>2</th>\n",
       "      <td>3</td>\n",
       "      <td>20.0</td>\n",
       "      <td>4.0</td>\n",
       "      <td>168807.0</td>\n",
       "      <td>Never-married</td>\n",
       "      <td>Not-in-family</td>\n",
       "    </tr>\n",
       "    <tr>\n",
       "      <th>3</th>\n",
       "      <td>4</td>\n",
       "      <td>14.0</td>\n",
       "      <td>4.0</td>\n",
       "      <td>168203.0</td>\n",
       "      <td>Never-married</td>\n",
       "      <td>Other-relative</td>\n",
       "    </tr>\n",
       "    <tr>\n",
       "      <th>4</th>\n",
       "      <td>5</td>\n",
       "      <td>20.0</td>\n",
       "      <td>4.0</td>\n",
       "      <td>1484705.0</td>\n",
       "      <td>Divorced</td>\n",
       "      <td>Unmarried</td>\n",
       "    </tr>\n",
       "  </tbody>\n",
       "</table>\n",
       "</div>"
      ],
      "text/plain": [
       "   Id  Edad  Años_Estudio    Salario    Estado_Civil      Papel_Hogar\n",
       "0   1  15.0           2.0   214061.0        Divorced    Not-in-family\n",
       "1   2  18.0           3.0   270942.0   Never-married   Other-relative\n",
       "2   3  20.0           4.0   168807.0   Never-married    Not-in-family\n",
       "3   4  14.0           4.0   168203.0   Never-married   Other-relative\n",
       "4   5  20.0           4.0  1484705.0        Divorced        Unmarried"
      ]
     },
     "execution_count": 5,
     "metadata": {},
     "output_type": "execute_result"
    }
   ],
   "source": [
    "#Definimos un nuevo data frame con las columnas que contienen valores ausentes \n",
    "df_ausentes = df.drop(['Escolaridad','Trabajo','Género','País_Nacim'], axis=1)\n",
    "df_ausentes.head()"
   ]
  },
  {
   "cell_type": "markdown",
   "id": "5770d47e",
   "metadata": {
    "cell_id": "00007-9027d671-0248-457b-8249-6eb1855cd182",
    "deepnote_cell_height": 52.390625,
    "deepnote_cell_type": "markdown"
   },
   "source": [
    "**El ID no fue eliminado para poder unir los datasets al final**"
   ]
  },
  {
   "cell_type": "code",
   "execution_count": 6,
   "id": "2a79d044",
   "metadata": {
    "cell_id": "00008-ee41d574-ab76-4359-95bc-997de79acaed",
    "deepnote_cell_height": 251.359375,
    "deepnote_cell_type": "code",
    "deepnote_output_heights": [
     136.359375
    ],
    "deepnote_to_be_reexecuted": false,
    "execution_millis": 21,
    "execution_start": 1653501367873,
    "source_hash": "2c0f32ad"
   },
   "outputs": [
    {
     "data": {
      "text/plain": [
       "Id                int64\n",
       "Edad            float64\n",
       "Años_Estudio    float64\n",
       "Salario         float64\n",
       "Estado_Civil     object\n",
       "Papel_Hogar      object\n",
       "dtype: object"
      ]
     },
     "execution_count": 6,
     "metadata": {},
     "output_type": "execute_result"
    }
   ],
   "source": [
    "#Los tipos de datos son correctos y podemos trabajar con ellos\n",
    "df_ausentes.dtypes  "
   ]
  },
  {
   "cell_type": "markdown",
   "id": "55d1221f",
   "metadata": {
    "cell_id": "572fe22e69ca46399545bc1bcf55b971",
    "deepnote_cell_height": 52.390625,
    "deepnote_cell_type": "markdown",
    "tags": []
   },
   "source": [
    "**Ahora, vamos a verificar, de acuerdo a los lineamientos, si podemos realizar la imputacion con la MEDIA, MEDIANA o MODA.**"
   ]
  },
  {
   "cell_type": "markdown",
   "id": "c126cf59",
   "metadata": {
    "cell_id": "0172120087cf4436b6c2d95838333a50",
    "deepnote_cell_height": 128.1875,
    "deepnote_cell_type": "markdown",
    "tags": []
   },
   "source": [
    "Para poder imputar valores ausentes utilizando la **MEDIA** se debe cumplir que:\n",
    "- No puede usarse con variables categóricas; analizaremos la columna Edad, Años_Estudio y Salario.\n",
    "- Sólo se recomienda para % faltantes hasta 10% y sin presencia de Outliers"
   ]
  },
  {
   "cell_type": "markdown",
   "id": "59ffc991",
   "metadata": {
    "cell_id": "3482bcebc73c462d9e8c5a68f5d523a6",
    "deepnote_cell_height": 52.390625,
    "deepnote_cell_type": "markdown",
    "tags": []
   },
   "source": [
    "Vemamos que el porcentaje de datos ausentes de las variables numéricas no supere el 10%:"
   ]
  },
  {
   "cell_type": "code",
   "execution_count": 7,
   "id": "3aacb25e",
   "metadata": {
    "cell_id": "4d602b9568d74fcf812a5184e106a642",
    "deepnote_cell_height": 193.78125,
    "deepnote_cell_type": "code",
    "deepnote_output_heights": [
     78.78125
    ],
    "deepnote_to_be_reexecuted": false,
    "execution_millis": 10,
    "execution_start": 1653501370713,
    "source_hash": "3e898763",
    "tags": []
   },
   "outputs": [
    {
     "data": {
      "text/plain": [
       "Edad            6.664014\n",
       "Años_Estudio    9.999337\n",
       "Salario         8.331676\n",
       "dtype: float64"
      ]
     },
     "execution_count": 7,
     "metadata": {},
     "output_type": "execute_result"
    }
   ],
   "source": [
    "#Porcentaje de nulos\n",
    "df_ausentes[['Edad', 'Años_Estudio', 'Salario']].isnull().sum()/len(df_ausentes)*100 "
   ]
  },
  {
   "cell_type": "markdown",
   "id": "da0353cf",
   "metadata": {
    "cell_id": "8254775eb8c045f8a5f888963c91e77b",
    "deepnote_cell_height": 52.390625,
    "deepnote_cell_type": "markdown",
    "tags": []
   },
   "source": [
    "Ahora vamos a verificar que no hayan outliers en las variables:"
   ]
  },
  {
   "cell_type": "code",
   "execution_count": 8,
   "id": "b276e562",
   "metadata": {
    "cell_id": "00009-f0ca9e29-8ad4-457c-a404-3ffb40801add",
    "deepnote_cell_height": 431.1875,
    "deepnote_cell_type": "code",
    "deepnote_output_heights": [
     21.1875,
     264
    ],
    "deepnote_to_be_reexecuted": false,
    "execution_millis": 308,
    "execution_start": 1653501372438,
    "source_hash": "d27e5d3d"
   },
   "outputs": [
    {
     "data": {
      "text/plain": [
       "<AxesSubplot:xlabel='Edad'>"
      ]
     },
     "execution_count": 8,
     "metadata": {},
     "output_type": "execute_result"
    },
    {
     "data": {
      "image/png": "[encoded data removed]",
      "text/plain": [
       "<Figure size 432x288 with 1 Axes>"
      ]
     },
     "metadata": {
      "needs_background": "light"
     },
     "output_type": "display_data"
    }
   ],
   "source": [
    "#Outliers Edad\n",
    "sns.boxplot(x=df_ausentes['Edad'])"
   ]
  },
  {
   "cell_type": "code",
   "execution_count": 9,
   "id": "e1660c86",
   "metadata": {
    "cell_id": "00010-58691eaf-bd8a-4b03-aba9-2b62991c78e4",
    "deepnote_cell_height": 432.1875,
    "deepnote_cell_type": "code",
    "deepnote_output_heights": [
     21.1875,
     265
    ],
    "deepnote_to_be_reexecuted": false,
    "execution_millis": 298,
    "execution_start": 1653501372962,
    "source_hash": "21be072c"
   },
   "outputs": [
    {
     "data": {
      "text/plain": [
       "<AxesSubplot:xlabel='Años_Estudio'>"
      ]
     },
     "execution_count": 9,
     "metadata": {},
     "output_type": "execute_result"
    },
    {
     "data": {
      "image/png": "[encoded data removed]",
      "text/plain": [
       "<Figure size 432x288 with 1 Axes>"
      ]
     },
     "metadata": {
      "needs_background": "light"
     },
     "output_type": "display_data"
    }
   ],
   "source": [
    "#Outliers Años_Estudio\n",
    "sns.boxplot(x=df_ausentes['Años_Estudio'])"
   ]
  },
  {
   "cell_type": "code",
   "execution_count": 10,
   "id": "ece9a5ca",
   "metadata": {
    "cell_id": "00011-41886a1a-a0d0-4349-b69c-07ea26ac5f25",
    "deepnote_cell_height": 379,
    "deepnote_cell_type": "code",
    "deepnote_output_heights": [
     264
    ],
    "deepnote_to_be_reexecuted": false,
    "execution_millis": 227,
    "execution_start": 1653501373686,
    "source_hash": "c221c85f"
   },
   "outputs": [
    {
     "data": {
      "image/png": "[encoded data removed]",
      "text/plain": [
       "<Figure size 432x288 with 1 Axes>"
      ]
     },
     "metadata": {
      "needs_background": "light"
     },
     "output_type": "display_data"
    }
   ],
   "source": [
    "#Outliers Salario\n",
    "ax = sns.boxplot(x=df_ausentes['Salario'])"
   ]
  },
  {
   "cell_type": "markdown",
   "id": "319b5e71",
   "metadata": {
    "cell_id": "00012-afc4c874-4773-4e42-910e-77483bd865ab",
    "deepnote_cell_height": 52.390625,
    "deepnote_cell_type": "markdown"
   },
   "source": [
    "**La edad, los años de estudio y el salario contienen outliers, por lo que no podremos imputar los valores ausentes con la MEDIA.**"
   ]
  },
  {
   "cell_type": "markdown",
   "id": "674bdc65",
   "metadata": {
    "cell_id": "e7be47c8150049d4b7c49f1435a5c581",
    "deepnote_cell_height": 153.59375,
    "deepnote_cell_type": "markdown",
    "tags": []
   },
   "source": [
    "Ahora, para poder imputar valores ausentes utilizando la **MEDIANA** se debe cumplir que:\n",
    "- No puede usarse con variables categóricas; analizaremos la columna Edad, Años_Estudio y Salario.\n",
    "- Sólo se recomienda para % faltantes hasta 10%.\n",
    "- Al no ser afectada por valores extremos, ofrece mayor robustez.\n"
   ]
  },
  {
   "cell_type": "markdown",
   "id": "31a55951",
   "metadata": {
    "cell_id": "377ffc08327847318682894f88eb2c11",
    "deepnote_cell_height": 74.796875,
    "deepnote_cell_type": "markdown",
    "tags": []
   },
   "source": [
    "Como el pocentaje de datos faltantes en las variables númericas es menor al 10% y existen outliers, procederemos a imputar con la **MEDIANA**."
   ]
  },
  {
   "cell_type": "code",
   "execution_count": 11,
   "id": "d4d16e1c",
   "metadata": {
    "cell_id": "46005d422d584d79bf2e16bc69f8919b",
    "deepnote_cell_height": 99,
    "deepnote_cell_type": "code",
    "deepnote_to_be_reexecuted": false,
    "execution_millis": 39,
    "execution_start": 1653501376793,
    "source_hash": "eae1b68f",
    "tags": []
   },
   "outputs": [
    {
     "name": "stderr",
     "output_type": "stream",
     "text": [
      "C:\\Users\\david\\AppData\\Local\\Temp/ipykernel_18716/1438074741.py:2: FutureWarning: Dropping of nuisance columns in DataFrame reductions (with 'numeric_only=None') is deprecated; in a future version this will raise TypeError.  Select only valid columns before calling the reduction.\n",
      "  df_ausentes[['Edad', 'Años_Estudio', 'Salario']] = df_ausentes[['Edad', 'Años_Estudio', 'Salario']].fillna(df_ausentes.median())\n"
     ]
    }
   ],
   "source": [
    "#Agregamos al data frame los valores imputados\n",
    "df_ausentes[['Edad', 'Años_Estudio', 'Salario']] = df_ausentes[['Edad', 'Años_Estudio', 'Salario']].fillna(df_ausentes.median())"
   ]
  },
  {
   "cell_type": "code",
   "execution_count": 12,
   "id": "6d7d09ae",
   "metadata": {
    "cell_id": "72645cd895f34e90afef7d3acd3136dc",
    "deepnote_cell_height": 251.359375,
    "deepnote_cell_type": "code",
    "deepnote_output_heights": [
     136.359375
    ],
    "deepnote_to_be_reexecuted": false,
    "execution_millis": 26,
    "execution_start": 1653501399847,
    "source_hash": "976339ee",
    "tags": []
   },
   "outputs": [
    {
     "data": {
      "text/plain": [
       "Id                 0\n",
       "Edad               0\n",
       "Años_Estudio       0\n",
       "Salario            0\n",
       "Estado_Civil    1508\n",
       "Papel_Hogar     5027\n",
       "dtype: int64"
      ]
     },
     "execution_count": 12,
     "metadata": {},
     "output_type": "execute_result"
    }
   ],
   "source": [
    "#Verificamos que efectivamente ya no hay datos ausentes en las variables\n",
    "df_ausentes.isna().sum()"
   ]
  },
  {
   "cell_type": "markdown",
   "id": "41222f81",
   "metadata": {
    "cell_id": "a36681381efd4e13952dff8919633cbb",
    "deepnote_cell_height": 52.390625,
    "deepnote_cell_type": "markdown",
    "tags": []
   },
   "source": [
    "**Los valores ausentes fueron reemplazdos por las siguientes MEDIANAS:**"
   ]
  },
  {
   "cell_type": "code",
   "execution_count": 13,
   "id": "ec6ee73b",
   "metadata": {
    "cell_id": "41c43d56e3624e16b7796e6a19c6adf8",
    "deepnote_cell_height": 193.78125,
    "deepnote_cell_type": "code",
    "deepnote_output_heights": [
     78.78125
    ],
    "deepnote_to_be_reexecuted": false,
    "execution_millis": 23,
    "execution_start": 1653501403349,
    "source_hash": "fbb9a96d",
    "tags": []
   },
   "outputs": [
    {
     "data": {
      "text/plain": [
       "Años_Estudio        10.0\n",
       "Salario         178649.0\n",
       "Edad                47.0\n",
       "dtype: float64"
      ]
     },
     "execution_count": 13,
     "metadata": {},
     "output_type": "execute_result"
    }
   ],
   "source": [
    "#Medianas de las variables\n",
    "df_ausentes[['Años_Estudio','Salario','Edad']].median()"
   ]
  },
  {
   "cell_type": "markdown",
   "id": "9d5ead39",
   "metadata": {
    "cell_id": "008194217c0b4ce089bcef590f011450",
    "deepnote_cell_height": 186.796875,
    "deepnote_cell_type": "markdown",
    "tags": []
   },
   "source": [
    "### Ahora debemos imputar los valores de las columnas faltantes:\n",
    "#### Variables categóricas (Estado_Civil y Papel_Hogar)\n",
    "\n",
    "Para poder imputar valores ausentes de variables categóricas podemos utiliar la **MODA**; para utilizarla se debe cumplir que:\n",
    "- Sólo se recomienda para % faltantes hasta 10%."
   ]
  },
  {
   "cell_type": "markdown",
   "id": "e9c26975",
   "metadata": {
    "cell_id": "7f21202ba60a483981486c91f009406a",
    "deepnote_cell_height": 52.390625,
    "deepnote_cell_type": "markdown",
    "tags": []
   },
   "source": [
    "Vemamos que el porcentaje de datos ausentes en las variables categóricas no supere el 10%:"
   ]
  },
  {
   "cell_type": "code",
   "execution_count": 14,
   "id": "c48a4b0c",
   "metadata": {
    "cell_id": "99660c088ea0441aad6eac4b99e8d3b7",
    "deepnote_cell_height": 174.578125,
    "deepnote_cell_type": "code",
    "deepnote_output_heights": [
     59.578125
    ],
    "deepnote_to_be_reexecuted": false,
    "execution_millis": 16,
    "execution_start": 1653501406177,
    "source_hash": "ec48495",
    "tags": []
   },
   "outputs": [
    {
     "data": {
      "text/plain": [
       "Estado_Civil     4.999668\n",
       "Papel_Hogar     16.666667\n",
       "dtype: float64"
      ]
     },
     "execution_count": 14,
     "metadata": {},
     "output_type": "execute_result"
    }
   ],
   "source": [
    "#Porcentaje de nulos\n",
    "df_ausentes[['Estado_Civil', 'Papel_Hogar']].isnull().sum()/len(df_ausentes)*100 "
   ]
  },
  {
   "cell_type": "markdown",
   "id": "44b3143e",
   "metadata": {
    "cell_id": "805ef18238a14f2ab3ad6d17265a3945",
    "deepnote_cell_height": 88.796875,
    "deepnote_cell_type": "markdown",
    "tags": []
   },
   "source": [
    "Como el porcentaje de datos ausentes de la variable Estado_Civil no supera el 10%, podemos importar la variable con la moda\n",
    "\n",
    "**La variable Papel_Hogar supera el 10% de datos ausentes, por lo que no será posible realizar una imputación.**"
   ]
  },
  {
   "cell_type": "code",
   "execution_count": 15,
   "id": "f767994d",
   "metadata": {
    "cell_id": "2b224a5b312c4556aea36735d2871c78",
    "deepnote_cell_height": 99,
    "deepnote_cell_type": "code",
    "deepnote_table_loading": false,
    "deepnote_table_state": {
     "filters": [],
     "pageIndex": 1,
     "pageSize": 10,
     "sortBy": []
    },
    "deepnote_to_be_reexecuted": false,
    "execution_millis": 17,
    "execution_start": 1653501480500,
    "source_hash": "45945a71",
    "tags": []
   },
   "outputs": [],
   "source": [
    "#Agregamos al data frame los valores imputados\n",
    "df_ausentes['Estado_Civil'] = df_ausentes[['Estado_Civil']].fillna(df_ausentes['Estado_Civil'].mode()[0])"
   ]
  },
  {
   "cell_type": "code",
   "execution_count": 16,
   "id": "94b6ce6c",
   "metadata": {
    "cell_id": "62d6095308ac4bfaabfe16e8137d52b0",
    "deepnote_cell_height": 251.359375,
    "deepnote_cell_type": "code",
    "deepnote_output_heights": [
     136.359375
    ],
    "deepnote_to_be_reexecuted": false,
    "execution_millis": 588,
    "execution_start": 1653501481747,
    "source_hash": "2317ecb7",
    "tags": []
   },
   "outputs": [
    {
     "data": {
      "text/plain": [
       "Id                 0\n",
       "Edad               0\n",
       "Años_Estudio       0\n",
       "Salario            0\n",
       "Estado_Civil       0\n",
       "Papel_Hogar     5027\n",
       "dtype: int64"
      ]
     },
     "execution_count": 16,
     "metadata": {},
     "output_type": "execute_result"
    }
   ],
   "source": [
    "#Verificamos que efectivamente ya no hay datos ausentes en las variables \n",
    "df_ausentes.isna().sum()"
   ]
  },
  {
   "cell_type": "markdown",
   "id": "4a5c2a54",
   "metadata": {
    "cell_id": "ccf71dc649204665b9b23dff8a626a68",
    "deepnote_cell_height": 52.390625,
    "deepnote_cell_type": "markdown",
    "tags": []
   },
   "source": [
    "**Los valores ausentes fueron reemplazdos por la MODA:**"
   ]
  },
  {
   "cell_type": "code",
   "execution_count": 17,
   "id": "0b889b1a",
   "metadata": {
    "cell_id": "8982845fcfe842cbb0c59fc7f02a6da4",
    "deepnote_cell_height": 155.390625,
    "deepnote_cell_type": "code",
    "deepnote_output_heights": [
     40.390625
    ],
    "deepnote_to_be_reexecuted": false,
    "execution_millis": 2,
    "execution_start": 1653501572041,
    "source_hash": "abc34e2d",
    "tags": []
   },
   "outputs": [
    {
     "data": {
      "text/plain": [
       "0     Married-civ-spouse\n",
       "dtype: object"
      ]
     },
     "execution_count": 17,
     "metadata": {},
     "output_type": "execute_result"
    }
   ],
   "source": [
    "#Moda de la variable\n",
    "df_ausentes['Estado_Civil'].mode()"
   ]
  },
  {
   "cell_type": "markdown",
   "id": "cd65b8ab-6439-4da7-bc9c-5ca2765fa812",
   "metadata": {},
   "source": [
    "##### Ahora solo faltaría cambiar las columnas con los valores imputados en el DataFrame original:"
   ]
  },
  {
   "cell_type": "code",
   "execution_count": 32,
   "id": "383b4d68",
   "metadata": {
    "cell_id": "9ff09fd0a92548f39e61ef34a1488f9a",
    "deepnote_cell_height": 162.1875,
    "deepnote_cell_type": "code",
    "deepnote_to_be_reexecuted": false,
    "execution_millis": 174,
    "execution_start": 1653502297899,
    "owner_user_id": "653eb8db-995b-4e00-a9e3-235b56f217b3",
    "source_hash": "9c7ddfa3",
    "tags": []
   },
   "outputs": [],
   "source": [
    "df[['Edad', 'Años_Estudio', 'Salario', 'Estado_Civil']] = df_ausentes[['Edad', 'Años_Estudio', 'Salario', 'Estado_Civil']].values"
   ]
  },
  {
   "cell_type": "code",
   "execution_count": 35,
   "id": "c116f8c1-09a3-4d08-8da7-cff26f55449c",
   "metadata": {},
   "outputs": [
    {
     "data": {
      "text/html": [
       "<div>\n",
       "<style scoped>\n",
       "    .dataframe tbody tr th:only-of-type {\n",
       "        vertical-align: middle;\n",
       "    }\n",
       "\n",
       "    .dataframe tbody tr th {\n",
       "        vertical-align: top;\n",
       "    }\n",
       "\n",
       "    .dataframe thead th {\n",
       "        text-align: right;\n",
       "    }\n",
       "</style>\n",
       "<table border=\"1\" class=\"dataframe\">\n",
       "  <thead>\n",
       "    <tr style=\"text-align: right;\">\n",
       "      <th></th>\n",
       "      <th>Id</th>\n",
       "      <th>Edad</th>\n",
       "      <th>Años_Estudio</th>\n",
       "      <th>Salario</th>\n",
       "      <th>Escolaridad</th>\n",
       "      <th>Estado_Civil</th>\n",
       "      <th>Trabajo</th>\n",
       "      <th>Papel_Hogar</th>\n",
       "      <th>Género</th>\n",
       "      <th>País_Nacim</th>\n",
       "    </tr>\n",
       "  </thead>\n",
       "  <tbody>\n",
       "    <tr>\n",
       "      <th>0</th>\n",
       "      <td>1</td>\n",
       "      <td>15.0</td>\n",
       "      <td>2.0</td>\n",
       "      <td>214061.0</td>\n",
       "      <td>HS-grad</td>\n",
       "      <td>Divorced</td>\n",
       "      <td>Adm-clerical</td>\n",
       "      <td>Not-in-family</td>\n",
       "      <td>Male</td>\n",
       "      <td>Cambodia</td>\n",
       "    </tr>\n",
       "    <tr>\n",
       "      <th>1</th>\n",
       "      <td>2</td>\n",
       "      <td>18.0</td>\n",
       "      <td>3.0</td>\n",
       "      <td>270942.0</td>\n",
       "      <td>5th-6th</td>\n",
       "      <td>Never-married</td>\n",
       "      <td>Other-service</td>\n",
       "      <td>Other-relative</td>\n",
       "      <td>Female</td>\n",
       "      <td>United-States</td>\n",
       "    </tr>\n",
       "    <tr>\n",
       "      <th>2</th>\n",
       "      <td>3</td>\n",
       "      <td>20.0</td>\n",
       "      <td>4.0</td>\n",
       "      <td>168807.0</td>\n",
       "      <td>7th-8th</td>\n",
       "      <td>Never-married</td>\n",
       "      <td>Craft-repair</td>\n",
       "      <td>Not-in-family</td>\n",
       "      <td>Female</td>\n",
       "      <td>United-States</td>\n",
       "    </tr>\n",
       "    <tr>\n",
       "      <th>3</th>\n",
       "      <td>4</td>\n",
       "      <td>14.0</td>\n",
       "      <td>4.0</td>\n",
       "      <td>168203.0</td>\n",
       "      <td>7th-8th</td>\n",
       "      <td>Never-married</td>\n",
       "      <td>Farming-fishing</td>\n",
       "      <td>Other-relative</td>\n",
       "      <td>Male</td>\n",
       "      <td>United-States</td>\n",
       "    </tr>\n",
       "    <tr>\n",
       "      <th>4</th>\n",
       "      <td>5</td>\n",
       "      <td>20.0</td>\n",
       "      <td>4.0</td>\n",
       "      <td>1484705.0</td>\n",
       "      <td>Some-college</td>\n",
       "      <td>Divorced</td>\n",
       "      <td>Exec-managerial</td>\n",
       "      <td>Unmarried</td>\n",
       "      <td>Male</td>\n",
       "      <td>United-States</td>\n",
       "    </tr>\n",
       "  </tbody>\n",
       "</table>\n",
       "</div>"
      ],
      "text/plain": [
       "   Id  Edad Años_Estudio    Salario    Escolaridad    Estado_Civil  \\\n",
       "0   1  15.0          2.0   214061.0        HS-grad        Divorced   \n",
       "1   2  18.0          3.0   270942.0        5th-6th   Never-married   \n",
       "2   3  20.0          4.0   168807.0        7th-8th   Never-married   \n",
       "3   4  14.0          4.0   168203.0        7th-8th   Never-married   \n",
       "4   5  20.0          4.0  1484705.0   Some-college        Divorced   \n",
       "\n",
       "            Trabajo      Papel_Hogar   Género      País_Nacim  \n",
       "0      Adm-clerical    Not-in-family     Male        Cambodia  \n",
       "1     Other-service   Other-relative   Female   United-States  \n",
       "2      Craft-repair    Not-in-family   Female   United-States  \n",
       "3   Farming-fishing   Other-relative     Male   United-States  \n",
       "4   Exec-managerial        Unmarried     Male   United-States  "
      ]
     },
     "execution_count": 35,
     "metadata": {},
     "output_type": "execute_result"
    }
   ],
   "source": [
    "df.head()"
   ]
  },
  {
   "cell_type": "code",
   "execution_count": 34,
   "id": "2bcc9715-d346-4c50-9aad-e04457f11917",
   "metadata": {},
   "outputs": [
    {
     "data": {
      "text/plain": [
       "Id                 0\n",
       "Edad               0\n",
       "Años_Estudio       0\n",
       "Salario            0\n",
       "Escolaridad        0\n",
       "Estado_Civil       0\n",
       "Trabajo            0\n",
       "Papel_Hogar     5027\n",
       "Género             0\n",
       "País_Nacim         0\n",
       "dtype: int64"
      ]
     },
     "execution_count": 34,
     "metadata": {},
     "output_type": "execute_result"
    }
   ],
   "source": [
    "# Vemos que únicamente quedan valores faltantes en Papel_Hogar, ya que no cumple con los criterios de imputación\n",
    "df.isna().sum()"
   ]
  },
  {
   "cell_type": "markdown",
   "id": "a982b7ff-583c-44fb-8a23-3cf07c00fdf6",
   "metadata": {},
   "source": [
    "Procedemos a exportar el dataset resultante"
   ]
  },
  {
   "cell_type": "code",
   "execution_count": 38,
   "id": "8e16f0a0-dd13-4c25-a653-3eb400f2e89a",
   "metadata": {},
   "outputs": [],
   "source": [
    "df.to_excel('ValoresAusentes_imputados.xlsx', sheet_name='Imputados')"
   ]
  }
 ],
 "metadata": {
  "deepnote": {},
  "deepnote_execution_queue": [],
  "deepnote_notebook_id": "0d6ead54-d77a-4b48-b950-d6aa65db414d",
  "kernelspec": {
   "display_name": "Python 3 (ipykernel)",
   "language": "python",
   "name": "python3"
  },
  "language_info": {
   "codemirror_mode": {
    "name": "ipython",
    "version": 3
   },
   "file_extension": ".py",
   "mimetype": "text/x-python",
   "name": "python",
   "nbconvert_exporter": "python",
   "pygments_lexer": "ipython3",
   "version": "3.9.7"
  }
 },
 "nbformat": 4,
 "nbformat_minor": 5
}
