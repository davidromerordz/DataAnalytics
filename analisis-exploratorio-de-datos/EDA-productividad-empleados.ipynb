{
 "cells": [
  {
   "cell_type": "markdown",
   "id": "de93001e-4d8e-45be-a18f-2fcc59edd147",
   "metadata": {},
   "source": [
    "## Predicción de productividad de los empleados\n",
    "---\n",
    "La industria de la confección es uno de los ejemplos clave de la globalización industrial de esta era moderna. Es una industria que requiere mucha mano de obra y muchos procesos manuales. Satisfacer la enorme demanda mundial de productos de confección depende principalmente del rendimiento de producción y entrega de los empleados en las empresas de fabricación de prendas de vestir. Por lo tanto, es muy deseable entre los tomadores de decisiones en la industria de la confección rastrear, analizar y predecir el desempeño productivo de los equipos de trabajo en sus fábricas.\n"
   ]
  },
  {
   "cell_type": "markdown",
   "id": "2aa2703f-1f30-4cab-8870-0e84daf0a3fa",
   "metadata": {},
   "source": [
    "#### Fuente del conjunto de datos: \n",
    "El dataset fue extraído de: [UCI Machine Learning Repository](https://archive.ics.uci.edu/ml/datasets/Productivity+Prediction+of+Garment+Employees)\n",
    "\n",
    "\n",
    "---"
   ]
  },
  {
   "cell_type": "markdown",
   "id": "ca3d9e33-2cc8-490e-94dc-a114ee65a5f3",
   "metadata": {},
   "source": [
    "### Explicación de las variables ###\n",
    "---\n",
    "    \n",
    "    \n",
    "* **date:** fecha en MM-DD-AAAA\n",
    "* **day:** día de la semana\n",
    "* **quarter:** una parte del mes. Un mes se dividió en cuatro trimestres\n",
    "* **department:** departamento asociado con la instancia\n",
    "* **team_no:** número de equipo asociado con la instancia\n",
    "* **no_of_workers:** número de trabajadores en cada equipo\n",
    "* **no_of_style_change:** número de cambios en el estilo de un producto en particular\n",
    "* **targeted_productivity:** productividad esperada fijada por la Autoridad para cada equipo para cada día\n",
    "* **smv:** valor estándar de minutos, es el tiempo asignado para una tarea\n",
    "* **wip:** trabajo en curso. Incluye la cantidad de elementos sin terminar para los productos\n",
    "* **over_time:** representa la cantidad de tiempo extra de cada equipo en minutos\n",
    "* **incentive:** representa la cantidad de incentivo financiero (en BDT) que permite o motiva un curso de acción particular\n",
    "* **idle_time:** la cantidad de tiempo en que la producción se interrumpió debido a varias razones\n",
    "* **idle_men:** el número de trabajadores que estuvieron inactivos debido a la interrupción de la producción\n",
    "* **actual_productivity:** el % real de productividad que entregaron los trabajadores. Va de 0-1."
   ]
  },
  {
   "cell_type": "markdown",
   "id": "bd144952",
   "metadata": {},
   "source": [
    "## Importamos librerias"
   ]
  },
  {
   "cell_type": "code",
   "execution_count": 1,
   "id": "3476a3e8",
   "metadata": {},
   "outputs": [],
   "source": [
    "import pandas as pd\n",
    "import numpy as np\n",
    "import matplotlib.pyplot as plt\n",
    "import seaborn as sns\n",
    "from pandas_profiling import ProfileReport\n",
    "\n",
    "%matplotlib inline"
   ]
  },
  {
   "cell_type": "markdown",
   "id": "7891e5b3",
   "metadata": {},
   "source": [
    "## Importamos el dataset"
   ]
  },
  {
   "cell_type": "code",
   "execution_count": 2,
   "id": "6d213aed",
   "metadata": {
    "scrolled": true
   },
   "outputs": [
    {
     "data": {
      "text/html": [
       "<div>\n",
       "<style scoped>\n",
       "    .dataframe tbody tr th:only-of-type {\n",
       "        vertical-align: middle;\n",
       "    }\n",
       "\n",
       "    .dataframe tbody tr th {\n",
       "        vertical-align: top;\n",
       "    }\n",
       "\n",
       "    .dataframe thead th {\n",
       "        text-align: right;\n",
       "    }\n",
       "</style>\n",
       "<table border=\"1\" class=\"dataframe\">\n",
       "  <thead>\n",
       "    <tr style=\"text-align: right;\">\n",
       "      <th></th>\n",
       "      <th>date</th>\n",
       "      <th>quarter</th>\n",
       "      <th>department</th>\n",
       "      <th>day</th>\n",
       "      <th>team</th>\n",
       "      <th>targeted_productivity</th>\n",
       "      <th>smv</th>\n",
       "      <th>wip</th>\n",
       "      <th>over_time</th>\n",
       "      <th>incentive</th>\n",
       "      <th>idle_time</th>\n",
       "      <th>idle_men</th>\n",
       "      <th>no_of_style_change</th>\n",
       "      <th>no_of_workers</th>\n",
       "      <th>actual_productivity</th>\n",
       "    </tr>\n",
       "  </thead>\n",
       "  <tbody>\n",
       "    <tr>\n",
       "      <th>0</th>\n",
       "      <td>1/1/2015</td>\n",
       "      <td>Quarter1</td>\n",
       "      <td>sweing</td>\n",
       "      <td>Thursday</td>\n",
       "      <td>8</td>\n",
       "      <td>0.80</td>\n",
       "      <td>26.16</td>\n",
       "      <td>1108.0</td>\n",
       "      <td>7080</td>\n",
       "      <td>98</td>\n",
       "      <td>0.0</td>\n",
       "      <td>0</td>\n",
       "      <td>0</td>\n",
       "      <td>59.0</td>\n",
       "      <td>0.940725</td>\n",
       "    </tr>\n",
       "    <tr>\n",
       "      <th>1</th>\n",
       "      <td>1/1/2015</td>\n",
       "      <td>Quarter1</td>\n",
       "      <td>finishing</td>\n",
       "      <td>Thursday</td>\n",
       "      <td>1</td>\n",
       "      <td>0.75</td>\n",
       "      <td>3.94</td>\n",
       "      <td>NaN</td>\n",
       "      <td>960</td>\n",
       "      <td>0</td>\n",
       "      <td>0.0</td>\n",
       "      <td>0</td>\n",
       "      <td>0</td>\n",
       "      <td>8.0</td>\n",
       "      <td>0.886500</td>\n",
       "    </tr>\n",
       "    <tr>\n",
       "      <th>2</th>\n",
       "      <td>1/1/2015</td>\n",
       "      <td>Quarter1</td>\n",
       "      <td>sweing</td>\n",
       "      <td>Thursday</td>\n",
       "      <td>11</td>\n",
       "      <td>0.80</td>\n",
       "      <td>11.41</td>\n",
       "      <td>968.0</td>\n",
       "      <td>3660</td>\n",
       "      <td>50</td>\n",
       "      <td>0.0</td>\n",
       "      <td>0</td>\n",
       "      <td>0</td>\n",
       "      <td>30.5</td>\n",
       "      <td>0.800570</td>\n",
       "    </tr>\n",
       "    <tr>\n",
       "      <th>3</th>\n",
       "      <td>1/1/2015</td>\n",
       "      <td>Quarter1</td>\n",
       "      <td>sweing</td>\n",
       "      <td>Thursday</td>\n",
       "      <td>12</td>\n",
       "      <td>0.80</td>\n",
       "      <td>11.41</td>\n",
       "      <td>968.0</td>\n",
       "      <td>3660</td>\n",
       "      <td>50</td>\n",
       "      <td>0.0</td>\n",
       "      <td>0</td>\n",
       "      <td>0</td>\n",
       "      <td>30.5</td>\n",
       "      <td>0.800570</td>\n",
       "    </tr>\n",
       "    <tr>\n",
       "      <th>4</th>\n",
       "      <td>1/1/2015</td>\n",
       "      <td>Quarter1</td>\n",
       "      <td>sweing</td>\n",
       "      <td>Thursday</td>\n",
       "      <td>6</td>\n",
       "      <td>0.80</td>\n",
       "      <td>25.90</td>\n",
       "      <td>1170.0</td>\n",
       "      <td>1920</td>\n",
       "      <td>50</td>\n",
       "      <td>0.0</td>\n",
       "      <td>0</td>\n",
       "      <td>0</td>\n",
       "      <td>56.0</td>\n",
       "      <td>0.800382</td>\n",
       "    </tr>\n",
       "  </tbody>\n",
       "</table>\n",
       "</div>"
      ],
      "text/plain": [
       "       date   quarter  department       day  team  targeted_productivity  \\\n",
       "0  1/1/2015  Quarter1      sweing  Thursday     8                   0.80   \n",
       "1  1/1/2015  Quarter1  finishing   Thursday     1                   0.75   \n",
       "2  1/1/2015  Quarter1      sweing  Thursday    11                   0.80   \n",
       "3  1/1/2015  Quarter1      sweing  Thursday    12                   0.80   \n",
       "4  1/1/2015  Quarter1      sweing  Thursday     6                   0.80   \n",
       "\n",
       "     smv     wip  over_time  incentive  idle_time  idle_men  \\\n",
       "0  26.16  1108.0       7080         98        0.0         0   \n",
       "1   3.94     NaN        960          0        0.0         0   \n",
       "2  11.41   968.0       3660         50        0.0         0   \n",
       "3  11.41   968.0       3660         50        0.0         0   \n",
       "4  25.90  1170.0       1920         50        0.0         0   \n",
       "\n",
       "   no_of_style_change  no_of_workers  actual_productivity  \n",
       "0                   0           59.0             0.940725  \n",
       "1                   0            8.0             0.886500  \n",
       "2                   0           30.5             0.800570  \n",
       "3                   0           30.5             0.800570  \n",
       "4                   0           56.0             0.800382  "
      ]
     },
     "execution_count": 2,
     "metadata": {},
     "output_type": "execute_result"
    }
   ],
   "source": [
    "df = pd.read_csv('garments_worker_productivity.csv')\n",
    "df.head()"
   ]
  },
  {
   "cell_type": "markdown",
   "id": "b056dc6b",
   "metadata": {
    "tags": []
   },
   "source": [
    "### Distribución de las variables y tipo de variable"
   ]
  },
  {
   "cell_type": "code",
   "execution_count": 3,
   "id": "21535a3d-221b-4639-9843-da7cb8347e75",
   "metadata": {},
   "outputs": [
    {
     "data": {
      "text/plain": [
       "(1197, 15)"
      ]
     },
     "execution_count": 3,
     "metadata": {},
     "output_type": "execute_result"
    }
   ],
   "source": [
    "df.shape"
   ]
  },
  {
   "cell_type": "code",
   "execution_count": 4,
   "id": "4613c0f0-8298-4d1d-99f0-2559f5cfaadc",
   "metadata": {},
   "outputs": [
    {
     "data": {
      "text/html": [
       "<div>\n",
       "<style scoped>\n",
       "    .dataframe tbody tr th:only-of-type {\n",
       "        vertical-align: middle;\n",
       "    }\n",
       "\n",
       "    .dataframe tbody tr th {\n",
       "        vertical-align: top;\n",
       "    }\n",
       "\n",
       "    .dataframe thead th {\n",
       "        text-align: right;\n",
       "    }\n",
       "</style>\n",
       "<table border=\"1\" class=\"dataframe\">\n",
       "  <thead>\n",
       "    <tr style=\"text-align: right;\">\n",
       "      <th></th>\n",
       "      <th>count</th>\n",
       "      <th>mean</th>\n",
       "      <th>std</th>\n",
       "      <th>min</th>\n",
       "      <th>25%</th>\n",
       "      <th>50%</th>\n",
       "      <th>75%</th>\n",
       "      <th>max</th>\n",
       "    </tr>\n",
       "  </thead>\n",
       "  <tbody>\n",
       "    <tr>\n",
       "      <th>team</th>\n",
       "      <td>1197.0</td>\n",
       "      <td>6.426901</td>\n",
       "      <td>3.463963</td>\n",
       "      <td>1.000000</td>\n",
       "      <td>3.000000</td>\n",
       "      <td>6.000000</td>\n",
       "      <td>9.000000</td>\n",
       "      <td>12.000000</td>\n",
       "    </tr>\n",
       "    <tr>\n",
       "      <th>targeted_productivity</th>\n",
       "      <td>1197.0</td>\n",
       "      <td>0.729632</td>\n",
       "      <td>0.097891</td>\n",
       "      <td>0.070000</td>\n",
       "      <td>0.700000</td>\n",
       "      <td>0.750000</td>\n",
       "      <td>0.800000</td>\n",
       "      <td>0.800000</td>\n",
       "    </tr>\n",
       "    <tr>\n",
       "      <th>smv</th>\n",
       "      <td>1197.0</td>\n",
       "      <td>15.062172</td>\n",
       "      <td>10.943219</td>\n",
       "      <td>2.900000</td>\n",
       "      <td>3.940000</td>\n",
       "      <td>15.260000</td>\n",
       "      <td>24.260000</td>\n",
       "      <td>54.560000</td>\n",
       "    </tr>\n",
       "    <tr>\n",
       "      <th>wip</th>\n",
       "      <td>691.0</td>\n",
       "      <td>1190.465991</td>\n",
       "      <td>1837.455001</td>\n",
       "      <td>7.000000</td>\n",
       "      <td>774.500000</td>\n",
       "      <td>1039.000000</td>\n",
       "      <td>1252.500000</td>\n",
       "      <td>23122.000000</td>\n",
       "    </tr>\n",
       "    <tr>\n",
       "      <th>over_time</th>\n",
       "      <td>1197.0</td>\n",
       "      <td>4567.460317</td>\n",
       "      <td>3348.823563</td>\n",
       "      <td>0.000000</td>\n",
       "      <td>1440.000000</td>\n",
       "      <td>3960.000000</td>\n",
       "      <td>6960.000000</td>\n",
       "      <td>25920.000000</td>\n",
       "    </tr>\n",
       "    <tr>\n",
       "      <th>incentive</th>\n",
       "      <td>1197.0</td>\n",
       "      <td>38.210526</td>\n",
       "      <td>160.182643</td>\n",
       "      <td>0.000000</td>\n",
       "      <td>0.000000</td>\n",
       "      <td>0.000000</td>\n",
       "      <td>50.000000</td>\n",
       "      <td>3600.000000</td>\n",
       "    </tr>\n",
       "    <tr>\n",
       "      <th>idle_time</th>\n",
       "      <td>1197.0</td>\n",
       "      <td>0.730159</td>\n",
       "      <td>12.709757</td>\n",
       "      <td>0.000000</td>\n",
       "      <td>0.000000</td>\n",
       "      <td>0.000000</td>\n",
       "      <td>0.000000</td>\n",
       "      <td>300.000000</td>\n",
       "    </tr>\n",
       "    <tr>\n",
       "      <th>idle_men</th>\n",
       "      <td>1197.0</td>\n",
       "      <td>0.369256</td>\n",
       "      <td>3.268987</td>\n",
       "      <td>0.000000</td>\n",
       "      <td>0.000000</td>\n",
       "      <td>0.000000</td>\n",
       "      <td>0.000000</td>\n",
       "      <td>45.000000</td>\n",
       "    </tr>\n",
       "    <tr>\n",
       "      <th>no_of_style_change</th>\n",
       "      <td>1197.0</td>\n",
       "      <td>0.150376</td>\n",
       "      <td>0.427848</td>\n",
       "      <td>0.000000</td>\n",
       "      <td>0.000000</td>\n",
       "      <td>0.000000</td>\n",
       "      <td>0.000000</td>\n",
       "      <td>2.000000</td>\n",
       "    </tr>\n",
       "    <tr>\n",
       "      <th>no_of_workers</th>\n",
       "      <td>1197.0</td>\n",
       "      <td>34.609858</td>\n",
       "      <td>22.197687</td>\n",
       "      <td>2.000000</td>\n",
       "      <td>9.000000</td>\n",
       "      <td>34.000000</td>\n",
       "      <td>57.000000</td>\n",
       "      <td>89.000000</td>\n",
       "    </tr>\n",
       "    <tr>\n",
       "      <th>actual_productivity</th>\n",
       "      <td>1197.0</td>\n",
       "      <td>0.735091</td>\n",
       "      <td>0.174488</td>\n",
       "      <td>0.233705</td>\n",
       "      <td>0.650307</td>\n",
       "      <td>0.773333</td>\n",
       "      <td>0.850253</td>\n",
       "      <td>1.120437</td>\n",
       "    </tr>\n",
       "  </tbody>\n",
       "</table>\n",
       "</div>"
      ],
      "text/plain": [
       "                        count         mean          std       min  \\\n",
       "team                   1197.0     6.426901     3.463963  1.000000   \n",
       "targeted_productivity  1197.0     0.729632     0.097891  0.070000   \n",
       "smv                    1197.0    15.062172    10.943219  2.900000   \n",
       "wip                     691.0  1190.465991  1837.455001  7.000000   \n",
       "over_time              1197.0  4567.460317  3348.823563  0.000000   \n",
       "incentive              1197.0    38.210526   160.182643  0.000000   \n",
       "idle_time              1197.0     0.730159    12.709757  0.000000   \n",
       "idle_men               1197.0     0.369256     3.268987  0.000000   \n",
       "no_of_style_change     1197.0     0.150376     0.427848  0.000000   \n",
       "no_of_workers          1197.0    34.609858    22.197687  2.000000   \n",
       "actual_productivity    1197.0     0.735091     0.174488  0.233705   \n",
       "\n",
       "                               25%          50%          75%           max  \n",
       "team                      3.000000     6.000000     9.000000     12.000000  \n",
       "targeted_productivity     0.700000     0.750000     0.800000      0.800000  \n",
       "smv                       3.940000    15.260000    24.260000     54.560000  \n",
       "wip                     774.500000  1039.000000  1252.500000  23122.000000  \n",
       "over_time              1440.000000  3960.000000  6960.000000  25920.000000  \n",
       "incentive                 0.000000     0.000000    50.000000   3600.000000  \n",
       "idle_time                 0.000000     0.000000     0.000000    300.000000  \n",
       "idle_men                  0.000000     0.000000     0.000000     45.000000  \n",
       "no_of_style_change        0.000000     0.000000     0.000000      2.000000  \n",
       "no_of_workers             9.000000    34.000000    57.000000     89.000000  \n",
       "actual_productivity       0.650307     0.773333     0.850253      1.120437  "
      ]
     },
     "execution_count": 4,
     "metadata": {},
     "output_type": "execute_result"
    }
   ],
   "source": [
    "df.describe().T"
   ]
  },
  {
   "cell_type": "code",
   "execution_count": 5,
   "id": "8bb72573-dc21-410d-82f8-828cd5bf7552",
   "metadata": {},
   "outputs": [
    {
     "data": {
      "text/plain": [
       "date                       0\n",
       "quarter                    0\n",
       "department                 0\n",
       "day                        0\n",
       "team                       0\n",
       "targeted_productivity      0\n",
       "smv                        0\n",
       "wip                      506\n",
       "over_time                  0\n",
       "incentive                  0\n",
       "idle_time                  0\n",
       "idle_men                   0\n",
       "no_of_style_change         0\n",
       "no_of_workers              0\n",
       "actual_productivity        0\n",
       "dtype: int64"
      ]
     },
     "execution_count": 5,
     "metadata": {},
     "output_type": "execute_result"
    }
   ],
   "source": [
    "df.isna().sum()"
   ]
  },
  {
   "cell_type": "code",
   "execution_count": 6,
   "id": "b84aafb3-283a-445a-abda-cd2f346f148b",
   "metadata": {},
   "outputs": [
    {
     "data": {
      "text/plain": [
       "date                      object\n",
       "quarter                   object\n",
       "department                object\n",
       "day                       object\n",
       "team                       int64\n",
       "targeted_productivity    float64\n",
       "smv                      float64\n",
       "wip                      float64\n",
       "over_time                  int64\n",
       "incentive                  int64\n",
       "idle_time                float64\n",
       "idle_men                   int64\n",
       "no_of_style_change         int64\n",
       "no_of_workers            float64\n",
       "actual_productivity      float64\n",
       "dtype: object"
      ]
     },
     "execution_count": 6,
     "metadata": {},
     "output_type": "execute_result"
    }
   ],
   "source": [
    "df.dtypes"
   ]
  },
  {
   "cell_type": "code",
   "execution_count": 7,
   "id": "ed700d77-fbb5-4dcf-961b-780a8b466774",
   "metadata": {},
   "outputs": [],
   "source": [
    "# Pasamos 'date' a tipo fecha\n",
    "df['date'] = pd.to_datetime(df['date'])"
   ]
  },
  {
   "cell_type": "markdown",
   "id": "9d5b25cf-eba7-4abe-8b4a-ec0c4012ea0d",
   "metadata": {
    "tags": []
   },
   "source": [
    "### Analizamos la variable 'department'"
   ]
  },
  {
   "cell_type": "code",
   "execution_count": 8,
   "id": "fe2b0c64-721b-48c5-93ff-8438bf794684",
   "metadata": {},
   "outputs": [
    {
     "data": {
      "text/plain": [
       "sweing        691\n",
       "finishing     257\n",
       "finishing     249\n",
       "Name: department, dtype: int64"
      ]
     },
     "execution_count": 8,
     "metadata": {},
     "output_type": "execute_result"
    }
   ],
   "source": [
    "# Aquí podemos ver algo extraño\n",
    "df.department.value_counts()"
   ]
  },
  {
   "cell_type": "code",
   "execution_count": 9,
   "id": "1761e1e2-0b81-4438-be8c-3e2e20bd340f",
   "metadata": {},
   "outputs": [
    {
     "data": {
      "text/plain": [
       "array(['sweing', 'finishing ', 'sweing', ..., 'finishing', 'finishing',\n",
       "       'finishing'], dtype=object)"
      ]
     },
     "execution_count": 9,
     "metadata": {},
     "output_type": "execute_result"
    }
   ],
   "source": [
    "# Vemos que hay un espacio de más\n",
    "df.department.values"
   ]
  },
  {
   "cell_type": "code",
   "execution_count": 10,
   "id": "b5932617-7112-4788-8d49-81522cdf8861",
   "metadata": {
    "scrolled": true
   },
   "outputs": [
    {
     "data": {
      "text/plain": [
       "array(['sweing', 'finishing'], dtype=object)"
      ]
     },
     "execution_count": 10,
     "metadata": {},
     "output_type": "execute_result"
    }
   ],
   "source": [
    "df['department'] = df['department'].str.replace(' ','')\n",
    "df['department'].unique()"
   ]
  },
  {
   "cell_type": "code",
   "execution_count": 11,
   "id": "c90b544d",
   "metadata": {},
   "outputs": [
    {
     "data": {
      "text/plain": [
       "sweing       691\n",
       "finishing    506\n",
       "Name: department, dtype: int64"
      ]
     },
     "execution_count": 11,
     "metadata": {},
     "output_type": "execute_result"
    }
   ],
   "source": [
    "# Volvemos a observar la cantidad de valores de 'department'\n",
    "df.department.value_counts()"
   ]
  },
  {
   "cell_type": "code",
   "execution_count": 12,
   "id": "332105d2",
   "metadata": {
    "scrolled": true,
    "tags": []
   },
   "outputs": [
    {
     "data": {
      "text/plain": [
       "<AxesSubplot:xlabel='department', ylabel='count'>"
      ]
     },
     "execution_count": 12,
     "metadata": {},
     "output_type": "execute_result"
    },
    {
     "data": {
      "image/png": "[encoded data removed]",
      "text/plain": [
       "<Figure size 432x288 with 1 Axes>"
      ]
     },
     "metadata": {
      "needs_background": "light"
     },
     "output_type": "display_data"
    }
   ],
   "source": [
    "sns.countplot(x = df[\"department\"])"
   ]
  },
  {
   "cell_type": "markdown",
   "id": "cd304b5a",
   "metadata": {},
   "source": [
    "Como conclusión, hay mayor cantidad en 'sweing'"
   ]
  },
  {
   "cell_type": "markdown",
   "id": "f81f42d9-063c-489b-8fc1-b465c626e6d2",
   "metadata": {
    "tags": []
   },
   "source": [
    "### Analizamos la variable 'team'"
   ]
  },
  {
   "cell_type": "code",
   "execution_count": 13,
   "id": "c4b1ad83-94b5-4841-aba7-6b5b138ed945",
   "metadata": {
    "tags": []
   },
   "outputs": [
    {
     "data": {
      "text/plain": [
       "<AxesSubplot:xlabel='team', ylabel='count'>"
      ]
     },
     "execution_count": 13,
     "metadata": {},
     "output_type": "execute_result"
    },
    {
     "data": {
      "image/png": "[encoded data removed]",
      "text/plain": [
       "<Figure size 432x288 with 1 Axes>"
      ]
     },
     "metadata": {
      "needs_background": "light"
     },
     "output_type": "display_data"
    }
   ],
   "source": [
    "sns.countplot(x = df['team'])"
   ]
  },
  {
   "cell_type": "code",
   "execution_count": 14,
   "id": "f5c7bfa0",
   "metadata": {
    "tags": []
   },
   "outputs": [
    {
     "data": {
      "text/plain": [
       "8     109\n",
       "2     109\n",
       "1     105\n",
       "4     105\n",
       "9     104\n",
       "10    100\n",
       "12     99\n",
       "7      96\n",
       "3      95\n",
       "6      94\n",
       "5      93\n",
       "11     88\n",
       "Name: team, dtype: int64"
      ]
     },
     "execution_count": 14,
     "metadata": {},
     "output_type": "execute_result"
    }
   ],
   "source": [
    "df.team.value_counts()"
   ]
  },
  {
   "cell_type": "markdown",
   "id": "26acfa51",
   "metadata": {},
   "source": [
    "En los equipos hay una distribución muy pareja"
   ]
  },
  {
   "cell_type": "markdown",
   "id": "4459212e-7720-43b4-86d6-c60a512e9c52",
   "metadata": {
    "tags": []
   },
   "source": [
    "### Comparemos las gráficas entre la productividad esperada y la productividad actual"
   ]
  },
  {
   "cell_type": "code",
   "execution_count": 15,
   "id": "b276cb19-5b88-4f42-af7c-256e5c2e1c4d",
   "metadata": {
    "tags": []
   },
   "outputs": [
    {
     "name": "stderr",
     "output_type": "stream",
     "text": [
      "C:\\Users\\david\\anacondaGrafico\\lib\\site-packages\\seaborn\\distributions.py:2619: FutureWarning: `distplot` is a deprecated function and will be removed in a future version. Please adapt your code to use either `displot` (a figure-level function with similar flexibility) or `histplot` (an axes-level function for histograms).\n",
      "  warnings.warn(msg, FutureWarning)\n",
      "C:\\Users\\david\\anacondaGrafico\\lib\\site-packages\\seaborn\\distributions.py:2619: FutureWarning: `distplot` is a deprecated function and will be removed in a future version. Please adapt your code to use either `displot` (a figure-level function with similar flexibility) or `histplot` (an axes-level function for histograms).\n",
      "  warnings.warn(msg, FutureWarning)\n"
     ]
    },
    {
     "data": {
      "image/png": "[encoded data removed]",
      "text/plain": [
       "<Figure size 960x480 with 2 Axes>"
      ]
     },
     "metadata": {
      "needs_background": "light"
     },
     "output_type": "display_data"
    }
   ],
   "source": [
    "from matplotlib.ticker import FormatStrFormatter\n",
    "\n",
    "fig,axes = plt.subplots(nrows=1,ncols=2,dpi=120,figsize = (8,4))\n",
    "\n",
    "plot0=sns.distplot(x = df['targeted_productivity'],ax=axes[0],color='green')\n",
    "axes[0].yaxis.set_major_formatter(FormatStrFormatter('%.3f'))\n",
    "axes[0].set_title('Productividad esperada',fontdict={'fontsize':8})\n",
    "axes[0].set_xlabel('Productividad',fontdict={'fontsize':7})\n",
    "axes[0].set_ylabel('Conteo',fontdict={'fontsize':7})\n",
    "plt.tight_layout()\n",
    "\n",
    "plot1=sns.distplot(x= df['actual_productivity'],color='blue')\n",
    "axes[1].yaxis.set_major_formatter(FormatStrFormatter('%.3f'))\n",
    "axes[1].set_title('Productividad actual',fontdict={'fontsize':8})\n",
    "axes[1].set_xlabel('Productividad',fontdict={'fontsize':7})\n",
    "axes[1].set_ylabel('Conteo',fontdict={'fontsize':7})\n",
    "plt.tight_layout()"
   ]
  },
  {
   "cell_type": "markdown",
   "id": "8dc9e098-8562-4346-8888-fa122f42dda7",
   "metadata": {},
   "source": [
    "Me parece curioso que en la productividad actual hayan valores mayores que 1"
   ]
  },
  {
   "cell_type": "code",
   "execution_count": 16,
   "id": "0637b479",
   "metadata": {},
   "outputs": [
    {
     "data": {
      "text/plain": [
       "(37, 15)"
      ]
     },
     "execution_count": 16,
     "metadata": {},
     "output_type": "execute_result"
    }
   ],
   "source": [
    "a = df[df['actual_productivity'] > 1]\n",
    "a.shape"
   ]
  },
  {
   "cell_type": "code",
   "execution_count": 17,
   "id": "024013b9",
   "metadata": {
    "tags": []
   },
   "outputs": [
    {
     "data": {
      "text/plain": [
       "<AxesSubplot:ylabel='targeted_productivity'>"
      ]
     },
     "execution_count": 17,
     "metadata": {},
     "output_type": "execute_result"
    },
    {
     "data": {
      "image/png": "[encoded data removed]",
      "text/plain": [
       "<Figure size 432x288 with 1 Axes>"
      ]
     },
     "metadata": {
      "needs_background": "light"
     },
     "output_type": "display_data"
    }
   ],
   "source": [
    "from seaborn import boxplot\n",
    "boxplot(y =df.targeted_productivity, orient=\"v\")"
   ]
  },
  {
   "cell_type": "code",
   "execution_count": 18,
   "id": "17b2dba1",
   "metadata": {
    "tags": []
   },
   "outputs": [
    {
     "data": {
      "text/plain": [
       "<AxesSubplot:ylabel='actual_productivity'>"
      ]
     },
     "execution_count": 18,
     "metadata": {},
     "output_type": "execute_result"
    },
    {
     "data": {
      "image/png": "[encoded data removed]",
      "text/plain": [
       "<Figure size 432x288 with 1 Axes>"
      ]
     },
     "metadata": {
      "needs_background": "light"
     },
     "output_type": "display_data"
    }
   ],
   "source": [
    "boxplot(y =df.actual_productivity, orient=\"v\")"
   ]
  },
  {
   "cell_type": "markdown",
   "id": "df0953be",
   "metadata": {},
   "source": [
    "Aqui vemos que la mayoria de los datos son similares entre la productividad esperada y la actual\n",
    "\n",
    "También vemos que la mayoria tiene buena productividad y hay pocos casos donde son valores outliers bajos"
   ]
  },
  {
   "cell_type": "markdown",
   "id": "617252cf",
   "metadata": {
    "tags": []
   },
   "source": [
    "### Analizamos la variable 'incentive'"
   ]
  },
  {
   "cell_type": "code",
   "execution_count": 20,
   "id": "b3568703",
   "metadata": {
    "tags": []
   },
   "outputs": [
    {
     "data": {
      "text/plain": [
       "<AxesSubplot:ylabel='incentive'>"
      ]
     },
     "execution_count": 20,
     "metadata": {},
     "output_type": "execute_result"
    },
    {
     "data": {
      "image/png": "[encoded data removed]",
      "text/plain": [
       "<Figure size 432x288 with 1 Axes>"
      ]
     },
     "metadata": {
      "needs_background": "light"
     },
     "output_type": "display_data"
    }
   ],
   "source": [
    "boxplot(y =df.incentive, orient=\"v\")"
   ]
  },
  {
   "cell_type": "code",
   "execution_count": 21,
   "id": "c2377108",
   "metadata": {
    "tags": []
   },
   "outputs": [
    {
     "data": {
      "text/plain": [
       "<AxesSubplot:ylabel='Frequency'>"
      ]
     },
     "execution_count": 21,
     "metadata": {},
     "output_type": "execute_result"
    },
    {
     "data": {
      "image/png": "[encoded data removed]",
      "text/plain": [
       "<Figure size 432x288 with 1 Axes>"
      ]
     },
     "metadata": {
      "needs_background": "light"
     },
     "output_type": "display_data"
    }
   ],
   "source": [
    "df['incentive'].plot.hist()"
   ]
  },
  {
   "cell_type": "markdown",
   "id": "fc803954",
   "metadata": {
    "tags": []
   },
   "source": [
    "Vemos a simple vista que casi todos los datos tienen valores pequeños y hay pocos outliers muy altos"
   ]
  },
  {
   "cell_type": "markdown",
   "id": "09f78725-b955-40ce-a79c-691b8b9f0001",
   "metadata": {
    "tags": []
   },
   "source": [
    "# Análisis Bivariado "
   ]
  },
  {
   "cell_type": "markdown",
   "id": "dc4c0e6e-f0ed-47a6-b8c6-a1f2dde2cc80",
   "metadata": {
    "tags": []
   },
   "source": [
    "### Targeted productivity vs Actual productivity\n",
    "Podríamos poner esta comparación en el análisis bivariado"
   ]
  },
  {
   "cell_type": "code",
   "execution_count": 22,
   "id": "c71feac5-aa1b-42ac-98a3-c87cf771a9cf",
   "metadata": {
    "tags": []
   },
   "outputs": [
    {
     "data": {
      "text/html": [
       "<div>\n",
       "<style scoped>\n",
       "    .dataframe tbody tr th:only-of-type {\n",
       "        vertical-align: middle;\n",
       "    }\n",
       "\n",
       "    .dataframe tbody tr th {\n",
       "        vertical-align: top;\n",
       "    }\n",
       "\n",
       "    .dataframe thead th {\n",
       "        text-align: right;\n",
       "    }\n",
       "</style>\n",
       "<table border=\"1\" class=\"dataframe\">\n",
       "  <thead>\n",
       "    <tr style=\"text-align: right;\">\n",
       "      <th></th>\n",
       "      <th>targeted_productivity</th>\n",
       "      <th>actual_productivity</th>\n",
       "    </tr>\n",
       "  </thead>\n",
       "  <tbody>\n",
       "    <tr>\n",
       "      <th>count</th>\n",
       "      <td>1197.000000</td>\n",
       "      <td>1197.000000</td>\n",
       "    </tr>\n",
       "    <tr>\n",
       "      <th>mean</th>\n",
       "      <td>0.729632</td>\n",
       "      <td>0.735091</td>\n",
       "    </tr>\n",
       "    <tr>\n",
       "      <th>std</th>\n",
       "      <td>0.097891</td>\n",
       "      <td>0.174488</td>\n",
       "    </tr>\n",
       "    <tr>\n",
       "      <th>min</th>\n",
       "      <td>0.070000</td>\n",
       "      <td>0.233705</td>\n",
       "    </tr>\n",
       "    <tr>\n",
       "      <th>25%</th>\n",
       "      <td>0.700000</td>\n",
       "      <td>0.650307</td>\n",
       "    </tr>\n",
       "    <tr>\n",
       "      <th>50%</th>\n",
       "      <td>0.750000</td>\n",
       "      <td>0.773333</td>\n",
       "    </tr>\n",
       "    <tr>\n",
       "      <th>75%</th>\n",
       "      <td>0.800000</td>\n",
       "      <td>0.850253</td>\n",
       "    </tr>\n",
       "    <tr>\n",
       "      <th>max</th>\n",
       "      <td>0.800000</td>\n",
       "      <td>1.120437</td>\n",
       "    </tr>\n",
       "  </tbody>\n",
       "</table>\n",
       "</div>"
      ],
      "text/plain": [
       "       targeted_productivity  actual_productivity\n",
       "count            1197.000000          1197.000000\n",
       "mean                0.729632             0.735091\n",
       "std                 0.097891             0.174488\n",
       "min                 0.070000             0.233705\n",
       "25%                 0.700000             0.650307\n",
       "50%                 0.750000             0.773333\n",
       "75%                 0.800000             0.850253\n",
       "max                 0.800000             1.120437"
      ]
     },
     "execution_count": 22,
     "metadata": {},
     "output_type": "execute_result"
    }
   ],
   "source": [
    "targVSact = ['targeted_productivity', 'actual_productivity']\n",
    "df[targVSact].describe()"
   ]
  },
  {
   "cell_type": "code",
   "execution_count": 23,
   "id": "1362cc73-b81e-4de5-88ec-5595c16b2487",
   "metadata": {},
   "outputs": [
    {
     "data": {
      "image/png": "[encoded data removed]",
      "text/plain": [
       "<Figure size 432x288 with 1 Axes>"
      ]
     },
     "metadata": {
      "needs_background": "light"
     },
     "output_type": "display_data"
    }
   ],
   "source": [
    "sns.histplot(data=df[['targeted_productivity', 'actual_productivity']], element='poly')\n",
    "plt.show()"
   ]
  },
  {
   "cell_type": "markdown",
   "id": "a80feec4-1f5c-4d4a-9ea4-900497feee7d",
   "metadata": {},
   "source": [
    "## 'smv VS 'no_of_workers' \n",
    "Para comparar el tiempo asignado en cada tarea a los trabajadores, dependiendo del departamento (sweing o finishing)"
   ]
  },
  {
   "cell_type": "code",
   "execution_count": 24,
   "id": "c2e4327a-3012-4b41-a81c-d68d0a1b23e7",
   "metadata": {},
   "outputs": [
    {
     "data": {
      "text/plain": [
       "<AxesSubplot:xlabel='no_of_workers', ylabel='smv'>"
      ]
     },
     "execution_count": 24,
     "metadata": {},
     "output_type": "execute_result"
    },
    {
     "data": {
      "image/png": "[encoded data removed]",
      "text/plain": [
       "<Figure size 432x288 with 1 Axes>"
      ]
     },
     "metadata": {
      "needs_background": "light"
     },
     "output_type": "display_data"
    }
   ],
   "source": [
    "sns.scatterplot(data=df, x=\"no_of_workers\", y=\"smv\", hue=\"department\")"
   ]
  },
  {
   "cell_type": "markdown",
   "id": "e70bd455-8766-42a8-9b90-be7b4ba91b90",
   "metadata": {},
   "source": [
    "Vemos que al departamento de finishing (acabado) normalmente se le asigna la misma cantidad de tiempo para sus tareas, mientras que al deprtamento de sweing (costura) se le asigna timpos bastante diferentes o dispersos para sus tareas."
   ]
  },
  {
   "cell_type": "markdown",
   "id": "0fe6ec10-19a8-40d7-a6b2-9e72f95c25b3",
   "metadata": {},
   "source": [
    "## 'over_time'"
   ]
  },
  {
   "cell_type": "code",
   "execution_count": 25,
   "id": "d670034e-5182-40aa-b3f3-cab25e14bf31",
   "metadata": {},
   "outputs": [
    {
     "data": {
      "text/plain": [
       "<AxesSubplot:xlabel='department', ylabel='over_time'>"
      ]
     },
     "execution_count": 25,
     "metadata": {},
     "output_type": "execute_result"
    },
    {
     "data": {
      "image/png": "[encoded data removed]",
      "text/plain": [
       "<Figure size 432x288 with 1 Axes>"
      ]
     },
     "metadata": {
      "needs_background": "light"
     },
     "output_type": "display_data"
    }
   ],
   "source": [
    "sns.boxplot(x='department', y='over_time', data=df)"
   ]
  },
  {
   "cell_type": "markdown",
   "id": "26a86912-86cf-4d1b-9d26-b17f3e2c4846",
   "metadata": {},
   "source": [
    "Tiempo extra que tardan por departamento"
   ]
  },
  {
   "cell_type": "code",
   "execution_count": 26,
   "id": "599ad82a-eb65-49db-b6e3-1d093a8186c2",
   "metadata": {},
   "outputs": [
    {
     "data": {
      "text/plain": [
       "<AxesSubplot:xlabel='team', ylabel='over_time'>"
      ]
     },
     "execution_count": 26,
     "metadata": {},
     "output_type": "execute_result"
    },
    {
     "data": {
      "image/png": "[encoded data removed]",
      "text/plain": [
       "<Figure size 432x288 with 1 Axes>"
      ]
     },
     "metadata": {
      "needs_background": "light"
     },
     "output_type": "display_data"
    }
   ],
   "source": [
    "sns.boxplot(x='team',y='over_time',data=df)"
   ]
  },
  {
   "cell_type": "markdown",
   "id": "bd778a8e-2451-4adb-a181-d70a30177778",
   "metadata": {},
   "source": [
    "Tiempo extra que tardan por equipo"
   ]
  },
  {
   "cell_type": "code",
   "execution_count": 36,
   "id": "926f7d53-f6db-4293-860a-dac8efba4385",
   "metadata": {},
   "outputs": [
    {
     "data": {
      "text/html": [
       "<div>\n",
       "<style scoped>\n",
       "    .dataframe tbody tr th:only-of-type {\n",
       "        vertical-align: middle;\n",
       "    }\n",
       "\n",
       "    .dataframe tbody tr th {\n",
       "        vertical-align: top;\n",
       "    }\n",
       "\n",
       "    .dataframe thead th {\n",
       "        text-align: right;\n",
       "    }\n",
       "</style>\n",
       "<table border=\"1\" class=\"dataframe\">\n",
       "  <thead>\n",
       "    <tr style=\"text-align: right;\">\n",
       "      <th></th>\n",
       "      <th></th>\n",
       "      <th>over_time</th>\n",
       "    </tr>\n",
       "    <tr>\n",
       "      <th>department</th>\n",
       "      <th>team</th>\n",
       "      <th></th>\n",
       "    </tr>\n",
       "  </thead>\n",
       "  <tbody>\n",
       "    <tr>\n",
       "      <th rowspan=\"12\" valign=\"top\">finishing</th>\n",
       "      <th>1</th>\n",
       "      <td>1440.0</td>\n",
       "    </tr>\n",
       "    <tr>\n",
       "      <th>2</th>\n",
       "      <td>1440.0</td>\n",
       "    </tr>\n",
       "    <tr>\n",
       "      <th>3</th>\n",
       "      <td>1800.0</td>\n",
       "    </tr>\n",
       "    <tr>\n",
       "      <th>4</th>\n",
       "      <td>1920.0</td>\n",
       "    </tr>\n",
       "    <tr>\n",
       "      <th>5</th>\n",
       "      <td>1440.0</td>\n",
       "    </tr>\n",
       "    <tr>\n",
       "      <th>6</th>\n",
       "      <td>960.0</td>\n",
       "    </tr>\n",
       "    <tr>\n",
       "      <th>7</th>\n",
       "      <td>1440.0</td>\n",
       "    </tr>\n",
       "    <tr>\n",
       "      <th>8</th>\n",
       "      <td>1440.0</td>\n",
       "    </tr>\n",
       "    <tr>\n",
       "      <th>9</th>\n",
       "      <td>1140.0</td>\n",
       "    </tr>\n",
       "    <tr>\n",
       "      <th>10</th>\n",
       "      <td>1440.0</td>\n",
       "    </tr>\n",
       "    <tr>\n",
       "      <th>11</th>\n",
       "      <td>1440.0</td>\n",
       "    </tr>\n",
       "    <tr>\n",
       "      <th>12</th>\n",
       "      <td>1080.0</td>\n",
       "    </tr>\n",
       "    <tr>\n",
       "      <th rowspan=\"12\" valign=\"top\">sweing</th>\n",
       "      <th>1</th>\n",
       "      <td>6960.0</td>\n",
       "    </tr>\n",
       "    <tr>\n",
       "      <th>2</th>\n",
       "      <td>6840.0</td>\n",
       "    </tr>\n",
       "    <tr>\n",
       "      <th>3</th>\n",
       "      <td>6840.0</td>\n",
       "    </tr>\n",
       "    <tr>\n",
       "      <th>4</th>\n",
       "      <td>7020.0</td>\n",
       "    </tr>\n",
       "    <tr>\n",
       "      <th>5</th>\n",
       "      <td>7080.0</td>\n",
       "    </tr>\n",
       "    <tr>\n",
       "      <th>6</th>\n",
       "      <td>3960.0</td>\n",
       "    </tr>\n",
       "    <tr>\n",
       "      <th>7</th>\n",
       "      <td>6960.0</td>\n",
       "    </tr>\n",
       "    <tr>\n",
       "      <th>8</th>\n",
       "      <td>6840.0</td>\n",
       "    </tr>\n",
       "    <tr>\n",
       "      <th>9</th>\n",
       "      <td>6930.0</td>\n",
       "    </tr>\n",
       "    <tr>\n",
       "      <th>10</th>\n",
       "      <td>6720.0</td>\n",
       "    </tr>\n",
       "    <tr>\n",
       "      <th>11</th>\n",
       "      <td>3660.0</td>\n",
       "    </tr>\n",
       "    <tr>\n",
       "      <th>12</th>\n",
       "      <td>4080.0</td>\n",
       "    </tr>\n",
       "  </tbody>\n",
       "</table>\n",
       "</div>"
      ],
      "text/plain": [
       "                 over_time\n",
       "department team           \n",
       "finishing  1        1440.0\n",
       "           2        1440.0\n",
       "           3        1800.0\n",
       "           4        1920.0\n",
       "           5        1440.0\n",
       "           6         960.0\n",
       "           7        1440.0\n",
       "           8        1440.0\n",
       "           9        1140.0\n",
       "           10       1440.0\n",
       "           11       1440.0\n",
       "           12       1080.0\n",
       "sweing     1        6960.0\n",
       "           2        6840.0\n",
       "           3        6840.0\n",
       "           4        7020.0\n",
       "           5        7080.0\n",
       "           6        3960.0\n",
       "           7        6960.0\n",
       "           8        6840.0\n",
       "           9        6930.0\n",
       "           10       6720.0\n",
       "           11       3660.0\n",
       "           12       4080.0"
      ]
     },
     "execution_count": 36,
     "metadata": {},
     "output_type": "execute_result"
    }
   ],
   "source": [
    "overTime_dep_team = df.groupby(['department', 'team']).median()['over_time']\n",
    "overTime_dep_team.to_frame()"
   ]
  },
  {
   "cell_type": "markdown",
   "id": "a3fd4346-61cb-448a-93e1-a0554d478c5d",
   "metadata": {},
   "source": [
    "Usamos la mediana para evitar alteraciones por los valores extremos"
   ]
  },
  {
   "cell_type": "markdown",
   "id": "5405528c-1348-4b1d-a561-f612f7cbb84b",
   "metadata": {},
   "source": [
    "## 'No_of_workers'"
   ]
  },
  {
   "cell_type": "code",
   "execution_count": 46,
   "id": "7e183eb5-15be-4337-8e1d-1369c6940659",
   "metadata": {},
   "outputs": [
    {
     "data": {
      "image/png": "[encoded data removed]",
      "text/plain": [
       "<Figure size 432x288 with 1 Axes>"
      ]
     },
     "metadata": {},
     "output_type": "display_data"
    }
   ],
   "source": [
    "data = df.groupby(['department']).no_of_workers.sum()\n",
    "\n",
    "data.plot.pie(title=\"Empleados por departamento\", autopct='%1.1f%%')\n",
    "\n",
    "plt.ylabel(None)\n",
    "plt.show()"
   ]
  },
  {
   "cell_type": "markdown",
   "id": "118f53d8-ce7b-4900-9550-14c05d45efc1",
   "metadata": {},
   "source": [
    "## Matriz de correlación entre las variables"
   ]
  },
  {
   "cell_type": "code",
   "execution_count": 24,
   "id": "33408439-a0e8-4f84-95e8-f3a25b6f1efa",
   "metadata": {},
   "outputs": [
    {
     "data": {
      "text/plain": [
       "<AxesSubplot:>"
      ]
     },
     "execution_count": 24,
     "metadata": {},
     "output_type": "execute_result"
    },
    {
     "data": {
      "image/png": "[encoded data removed]",
      "text/plain": [
       "<Figure size 720x576 with 2 Axes>"
      ]
     },
     "metadata": {
      "needs_background": "light"
     },
     "output_type": "display_data"
    }
   ],
   "source": [
    "fig, ax = plt.subplots(figsize = (10,8))\n",
    "sns.heatmap(df.corr(), annot = True, cmap = 'coolwarm')"
   ]
  },
  {
   "cell_type": "markdown",
   "id": "9c0e3080-54ca-44ed-b2c5-ecf80f057f1b",
   "metadata": {},
   "source": [
    "**Correlaciones positivas altas:**\n",
    "* 'no_of_workers' vs 'smv' (0.91)\n",
    "* 'no_of_workers' vs 'over_time' (0.73)\n",
    "* 'over_time' vs 'smv' (0.67)\n",
    "* 'idle_men' vs 'idle_time' (0.56)"
   ]
  }
 ],
 "metadata": {
  "kernelspec": {
   "display_name": "Python 3 (ipykernel)",
   "language": "python",
   "name": "python3"
  },
  "language_info": {
   "codemirror_mode": {
    "name": "ipython",
    "version": 3
   },
   "file_extension": ".py",
   "mimetype": "text/x-python",
   "name": "python",
   "nbconvert_exporter": "python",
   "pygments_lexer": "ipython3",
   "version": "3.9.7"
  }
 },
 "nbformat": 4,
 "nbformat_minor": 5
}
